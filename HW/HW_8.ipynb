{
 "cells": [
  {
   "cell_type": "code",
   "execution_count": 1,
   "metadata": {},
   "outputs": [],
   "source": [
    "import numpy as np\n",
    "from sklearn.metrics import accuracy_score, confusion_matrix, precision_score, \\\n",
    "                            recall_score, f1_score, roc_curve, plot_roc_curve\n",
    "\n",
    "from sklearn.model_selection import train_test_split\n",
    "from sklearn.datasets import make_classification\n",
    "from sklearn.linear_model import LogisticRegression\n",
    "\n",
    "from matplotlib import pyplot as plt\n",
    "\n",
    "import warnings\n",
    "warnings.filterwarnings('ignore')\n",
    "\n",
    "%matplotlib inline"
   ]
  },
  {
   "cell_type": "code",
   "execution_count": 2,
   "metadata": {},
   "outputs": [],
   "source": [
    "# обработка исключений\n",
    "\n",
    "class MyException(BaseException):\n",
    "    pass"
   ]
  },
  {
   "cell_type": "markdown",
   "metadata": {},
   "source": [
    "## 0. Подготовка исходных данных"
   ]
  },
  {
   "cell_type": "code",
   "execution_count": 35,
   "metadata": {},
   "outputs": [],
   "source": [
    "X, y = make_classification(random_state=30)\n",
    "\n",
    "X_train, X_test, y_train, y_test = train_test_split(X, y,\n",
    "                                                    test_size=0.2,\n",
    "                                                    shuffle=True,\n",
    "                                                    # stratify=y,             # применим из-за дисбаланса классов\n",
    "                                                    random_state=42)"
   ]
  },
  {
   "cell_type": "code",
   "execution_count": 36,
   "metadata": {},
   "outputs": [],
   "source": [
    "lr = LogisticRegression()\n",
    "lr.fit(X_train, y_train)\n",
    "y_pred = lr.predict(X_test)                        # метки (на тесте)\n",
    "predict_proba = lr.predict_proba(X_test)           # вероятности"
   ]
  },
  {
   "cell_type": "markdown",
   "metadata": {},
   "source": [
    "## 1. Функция для подсчета `accuracy`"
   ]
  },
  {
   "cell_type": "code",
   "execution_count": 37,
   "metadata": {},
   "outputs": [],
   "source": [
    "def my_accuracy_score(y_true, y_pred):\n",
    "    \"\"\" Функция подсчета доли правильных ответов (accuracy) \"\"\"\n",
    "\n",
    "    if (len(y_true) != len (y_pred)) | (len(y_true) == 0) | (len(y_pred) == 0):\n",
    "        raise MyException(\"Ошибка входных данных\")\n",
    "    else:\n",
    "        cntr = 0\n",
    "        for i in range(len(y_true)):\n",
    "            if y_true[i] == y_pred[i]:\n",
    "                cntr += 1\n",
    "        \n",
    "        return cntr / len(y_true)"
   ]
  },
  {
   "cell_type": "code",
   "execution_count": 38,
   "metadata": {},
   "outputs": [
    {
     "data": {
      "text/plain": [
       "0.7"
      ]
     },
     "execution_count": 38,
     "metadata": {},
     "output_type": "execute_result"
    }
   ],
   "source": [
    "my_accuracy_score(y_test, y_pred)"
   ]
  },
  {
   "cell_type": "code",
   "execution_count": 39,
   "metadata": {},
   "outputs": [
    {
     "data": {
      "text/plain": [
       "0.7"
      ]
     },
     "execution_count": 39,
     "metadata": {},
     "output_type": "execute_result"
    }
   ],
   "source": [
    "# проверка\n",
    "accuracy_score(y_test, y_pred)"
   ]
  },
  {
   "cell_type": "markdown",
   "metadata": {},
   "source": [
    "## 2. Функция подсчета матрицы ошибок"
   ]
  },
  {
   "cell_type": "code",
   "execution_count": 40,
   "metadata": {},
   "outputs": [],
   "source": [
    "def my_confusion_matrix(y_true, y_pred):\n",
    "    \"\"\" Функция подсчета матрицы ошибок \"\"\"\n",
    "    \n",
    "    if (len(y_true) != len (y_pred)) | (len(y_true) == 0) | (len(y_pred) == 0):\n",
    "        raise MyException(\"Ошибка входных данных\")\n",
    "    else:\n",
    "        TP, TN, FP, FN = 0, 0, 0, 0\n",
    "        for i in range(len(y_true)):\n",
    "            if (y_true[i] == y_pred[i]) & (y_pred[i] == 1):\n",
    "                TP += 1\n",
    "        \n",
    "        for i in range(len(y_true)):\n",
    "            if (y_true[i] == y_pred[i]) & (y_pred[i] == 0):\n",
    "                TN += 1\n",
    "        \n",
    "        for i in range(len(y_true)):\n",
    "            if (y_true[i] != y_pred[i]) & (y_pred[i] == 1):\n",
    "                FP += 1\n",
    "        \n",
    "        for i in range(len(y_true)):\n",
    "            if (y_true[i] != y_pred[i]) & (y_pred[i] == 0):\n",
    "                FN += 1\n",
    "    \n",
    "        return np.array([[TN, FP], [FN, TP]])\n",
    "        "
   ]
  },
  {
   "cell_type": "code",
   "execution_count": 41,
   "metadata": {},
   "outputs": [
    {
     "data": {
      "text/plain": [
       "array([[10,  3],\n",
       "       [ 3,  4]])"
      ]
     },
     "execution_count": 41,
     "metadata": {},
     "output_type": "execute_result"
    }
   ],
   "source": [
    "my_confusion_matrix(y_test, y_pred)"
   ]
  },
  {
   "cell_type": "code",
   "execution_count": 42,
   "metadata": {},
   "outputs": [
    {
     "data": {
      "text/plain": [
       "array([[10,  3],\n",
       "       [ 3,  4]])"
      ]
     },
     "execution_count": 42,
     "metadata": {},
     "output_type": "execute_result"
    }
   ],
   "source": [
    "# проверка\n",
    "confusion_matrix(y_test, y_pred)"
   ]
  },
  {
   "cell_type": "markdown",
   "metadata": {},
   "source": [
    "## 3. Функции подсчета точности, полноты, `F1-score`"
   ]
  },
  {
   "cell_type": "markdown",
   "metadata": {},
   "source": [
    "### 3.1 Точность"
   ]
  },
  {
   "cell_type": "code",
   "execution_count": 43,
   "metadata": {},
   "outputs": [],
   "source": [
    "def my_presicion_score(y_true, y_pred):\n",
    "    \"\"\" Функция посчета точности \"\"\"\n",
    "    \n",
    "    if (len(y_true) != len (y_pred)) | (len(y_true) == 0) | (len(y_pred) == 0):\n",
    "        raise MyException(\"Ошибка входных данных\")\n",
    "    else:\n",
    "        confusion_matrix = my_confusion_matrix(y_true, y_pred)\n",
    "        return confusion_matrix[1, 1] / (confusion_matrix[1, 1] + confusion_matrix[0, 1])\n"
   ]
  },
  {
   "cell_type": "code",
   "execution_count": 44,
   "metadata": {},
   "outputs": [
    {
     "data": {
      "text/plain": [
       "0.5714285714285714"
      ]
     },
     "execution_count": 44,
     "metadata": {},
     "output_type": "execute_result"
    }
   ],
   "source": [
    "my_presicion_score(y_test, y_pred)"
   ]
  },
  {
   "cell_type": "code",
   "execution_count": 45,
   "metadata": {},
   "outputs": [
    {
     "data": {
      "text/plain": [
       "0.5714285714285714"
      ]
     },
     "execution_count": 45,
     "metadata": {},
     "output_type": "execute_result"
    }
   ],
   "source": [
    "# проверка\n",
    "precision_score(y_test, y_pred)"
   ]
  },
  {
   "cell_type": "markdown",
   "metadata": {},
   "source": [
    "### 3.2 Полнота"
   ]
  },
  {
   "cell_type": "code",
   "execution_count": 46,
   "metadata": {},
   "outputs": [],
   "source": [
    "def my_recall_score(y_true, y_pred):\n",
    "    \"\"\" Функция подсчета полноты \"\"\"\n",
    "    \n",
    "    if (len(y_true) != len (y_pred)) | (len(y_true) == 0) | (len(y_pred) == 0):\n",
    "        raise MyException(\"Ошибка входных данных\")\n",
    "    else:\n",
    "        confusion_matrix = my_confusion_matrix(y_true, y_pred)\n",
    "        return confusion_matrix[1, 1] / (confusion_matrix[1, 1] + confusion_matrix[1, 0])\n"
   ]
  },
  {
   "cell_type": "code",
   "execution_count": 47,
   "metadata": {},
   "outputs": [
    {
     "data": {
      "text/plain": [
       "0.5714285714285714"
      ]
     },
     "execution_count": 47,
     "metadata": {},
     "output_type": "execute_result"
    }
   ],
   "source": [
    "my_recall_score(y_test, y_pred)"
   ]
  },
  {
   "cell_type": "code",
   "execution_count": 48,
   "metadata": {},
   "outputs": [
    {
     "data": {
      "text/plain": [
       "0.5714285714285714"
      ]
     },
     "execution_count": 48,
     "metadata": {},
     "output_type": "execute_result"
    }
   ],
   "source": [
    "# проверка\n",
    "recall_score(y_test, y_pred)"
   ]
  },
  {
   "cell_type": "markdown",
   "metadata": {},
   "source": [
    "### 3.3 F1-score"
   ]
  },
  {
   "cell_type": "code",
   "execution_count": 49,
   "metadata": {},
   "outputs": [],
   "source": [
    "def my_f1_score(y_true, y_pred, beta=1):\n",
    "    \"\"\" Функция подсчета f1-меры \"\"\"\n",
    "    \n",
    "    if (len(y_true) != len (y_pred)) | (len(y_true) == 0) | (len(y_pred) == 0):\n",
    "        raise MyException(\"Ошибка входных данных\")\n",
    "    else:\n",
    "        precision_score = my_presicion_score(y_true, y_pred)\n",
    "        recall_score = my_recall_score(y_true, y_pred)\n",
    "        return (1 + beta ** 2) * (precision_score * recall_score) / (precision_score + recall_score)\n"
   ]
  },
  {
   "cell_type": "code",
   "execution_count": 50,
   "metadata": {},
   "outputs": [
    {
     "data": {
      "text/plain": [
       "0.5714285714285714"
      ]
     },
     "execution_count": 50,
     "metadata": {},
     "output_type": "execute_result"
    }
   ],
   "source": [
    "my_f1_score(y_test, y_pred)"
   ]
  },
  {
   "cell_type": "code",
   "execution_count": 51,
   "metadata": {},
   "outputs": [
    {
     "data": {
      "text/plain": [
       "0.5714285714285714"
      ]
     },
     "execution_count": 51,
     "metadata": {},
     "output_type": "execute_result"
    }
   ],
   "source": [
    "# проверка\n",
    "f1_score(y_test, y_pred)"
   ]
  },
  {
   "cell_type": "markdown",
   "metadata": {},
   "source": [
    "## 4. Функции подсчета и построения ROC-кривой"
   ]
  },
  {
   "cell_type": "markdown",
   "metadata": {},
   "source": [
    "### 4.1 Подсчет"
   ]
  },
  {
   "cell_type": "code",
   "execution_count": 53,
   "metadata": {},
   "outputs": [],
   "source": [
    "def my_roc_curve(y_true, predict_proba):\n",
    "    \"\"\" Функция подсчета ROC-кривой. Возвращает TPR, и thresholds \"\"\"\n",
    "\n",
    "    if (len(y_true) != len (predict_proba)) | (len(y_true) == 0) | (len(predict_proba) == 0):\n",
    "        raise MyException(\"Ошибка входных данных\")\n",
    "    else:\n",
    "        th_size = 100\n",
    "        thresholds = np.linspace(0, 1, th_size)\n",
    "        FPR, TPR = [], []\n",
    "        \n",
    "        for threshold in thresholds:\n",
    "            y_pred = []\n",
    "            for i in range(len(predict_proba[:, 1])):\n",
    "                if predict_proba[i, 1] >= threshold:            # класс \"1\" - основной\n",
    "                    y_pred.append(1)\n",
    "                else:\n",
    "                    y_pred.append(0)\n",
    "            \n",
    "            TPR.append(my_recall_score(y_true, y_pred))\n",
    "            confusion_matrix = my_confusion_matrix(y_true, y_pred)\n",
    "            FPR.append(confusion_matrix[0, 1] / (confusion_matrix[0, 1] + confusion_matrix[0, 0]))\n",
    "\n",
    "        return (FPR, TPR, thresholds)"
   ]
  },
  {
   "cell_type": "markdown",
   "metadata": {},
   "source": [
    "### 4.2 Построение"
   ]
  },
  {
   "cell_type": "code",
   "execution_count": 58,
   "metadata": {},
   "outputs": [],
   "source": [
    "def my_plot_roc_curve(y_true, predict_proba):\n",
    "    \"\"\" Функция построения ROC-кривой \"\"\"\n",
    "\n",
    "    plt.figure()\n",
    "    fpr, tpr, _ = my_roc_curve(y_true, predict_proba)\n",
    "    plt.plot(fpr, tpr, color='darkorange',\n",
    "            lw=1, label='ROC curve')\n",
    "    plt.plot([0, 1], [0, 1], color='navy', lw=1, linestyle='--')\n",
    "    plt.xlim([-0.05, 1.05])\n",
    "    plt.ylim([-0.05, 1.05])\n",
    "    plt.xlabel('False Positive Rate')\n",
    "    plt.ylabel('True Positive Rate')\n",
    "    plt.title('Моя ROC-кривая')\n",
    "    plt.legend(loc=\"best\");\n"
   ]
  },
  {
   "cell_type": "code",
   "execution_count": 59,
   "metadata": {},
   "outputs": [
    {
     "data": {
      "image/png": "[encoded data removed]",
      "text/plain": [
       "<Figure size 640x480 with 1 Axes>"
      ]
     },
     "metadata": {},
     "output_type": "display_data"
    }
   ],
   "source": [
    "my_plot_roc_curve(y_test, predict_proba)"
   ]
  },
  {
   "cell_type": "code",
   "execution_count": 57,
   "metadata": {},
   "outputs": [
    {
     "data": {
      "image/png": "[encoded data removed]",
      "text/plain": [
       "<Figure size 640x480 with 1 Axes>"
      ]
     },
     "metadata": {},
     "output_type": "display_data"
    }
   ],
   "source": [
    "# проверка\n",
    "plot_roc_curve(lr, X_test, y_test);"
   ]
  },
  {
   "cell_type": "code",
   "execution_count": null,
   "metadata": {},
   "outputs": [],
   "source": []
  }
 ],
 "metadata": {
  "kernelspec": {
   "display_name": "DSL",
   "language": "python",
   "name": "python3"
  },
  "language_info": {
   "codemirror_mode": {
    "name": "ipython",
    "version": 3
   },
   "file_extension": ".py",
   "mimetype": "text/x-python",
   "name": "python",
   "nbconvert_exporter": "python",
   "pygments_lexer": "ipython3",
   "version": "3.10.12"
  },
  "orig_nbformat": 4
 },
 "nbformat": 4,
 "nbformat_minor": 2
}
